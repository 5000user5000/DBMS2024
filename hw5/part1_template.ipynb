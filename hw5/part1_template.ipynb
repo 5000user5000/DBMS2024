{
 "cells": [
  {
   "cell_type": "code",
   "execution_count": 76,
   "metadata": {},
   "outputs": [],
   "source": [
    "import csv\n",
    "import json\n",
    "import mysql.connector\n",
    "\n",
    "# please modify hw5_config.json to your own config file\n",
    "with open('hw5_config.json') as f:\n",
    "    config = json.load(f)\n",
    "\n",
    "host = config['host']\n",
    "user = config['user']\n",
    "passwd = config['passwd']\n",
    "dbms_student_path = config['dbms_student_path']\n",
    "new_student_path = config['new_student_path']\n",
    "\n",
    "# 連接到MySQL數據庫\n",
    "conn = mysql.connector.connect(host=host, user=user, passwd=passwd)\n",
    "cursor = conn.cursor(buffered=True)"
   ]
  },
  {
   "cell_type": "code",
   "execution_count": 77,
   "metadata": {},
   "outputs": [],
   "source": [
    "cursor.execute(\"CREATE DATABASE DB_class\")\n",
    "\n",
    "cursor.execute(\"show databases\")\n",
    "print(cursor.fetchall())\n",
    "\n",
    "cursor.execute(\"USE DB_class\")"
   ]
  },
  {
   "attachments": {},
   "cell_type": "markdown",
   "metadata": {},
   "source": [
    "## 1-1: Input data into student table"
   ]
  },
  {
   "cell_type": "code",
   "execution_count": 78,
   "metadata": {},
   "outputs": [],
   "source": [
    "# 創建學生表\n",
    "cursor.execute('''\n",
    "CREATE TABLE student (\n",
    "    id INT AUTO_INCREMENT PRIMARY KEY,\n",
    "    identity VARCHAR(50),\n",
    "    department VARCHAR(100),\n",
    "    degree INT,\n",
    "    student_id VARCHAR(20),\n",
    "    name VARCHAR(100),\n",
    "    email VARCHAR(100),\n",
    "    class VARCHAR(50)\n",
    "    \n",
    ");\n",
    "\n",
    "''')"
   ]
  },
  {
   "cell_type": "code",
   "execution_count": 79,
   "metadata": {},
   "outputs": [],
   "source": [
    "# 讀取CSV文件並插入數據\n",
    "with open(dbms_student_path, 'r') as file:\n",
    "    csv_reader = csv.reader(file)\n",
    "    next(csv_reader)  # 跳過表頭\n",
    "    for row in csv_reader:\n",
    "        row[1] = row[1].strip() # 去除多餘空格\n",
    "        cursor.execute('INSERT INTO student (identity, department, degree, student_id, name, email, class) VALUES (%s, %s, %s, %s, %s, %s, %s)',tuple(row))\n",
    "\n",
    "conn.commit()"
   ]
  },
  {
   "attachments": {},
   "cell_type": "markdown",
   "metadata": {},
   "source": [
    "## 1-2: Read the information about yourself"
   ]
  },
  {
   "cell_type": "code",
   "execution_count": 80,
   "metadata": {},
   "outputs": [],
   "source": [
    "# 查詢特定學生信息\n",
    "cursor.execute('SELECT * FROM student WHERE student_id = %s', ('B09502132',))\n",
    "result = cursor.fetchone()\n",
    "print(result)"
   ]
  },
  {
   "attachments": {},
   "cell_type": "markdown",
   "metadata": {},
   "source": [
    "## 1-3: Update your own value of the \"身份\" column "
   ]
  },
  {
   "cell_type": "code",
   "execution_count": 81,
   "metadata": {},
   "outputs": [],
   "source": [
    "cursor.execute('UPDATE student SET identity = %s WHERE student_id = %s', ('特優生', 'B09502132'))\n",
    "conn.commit()"
   ]
  },
  {
   "cell_type": "code",
   "execution_count": 82,
   "metadata": {},
   "outputs": [],
   "source": [
    "# 查詢特定學生信息\n",
    "cursor.execute('SELECT * FROM student WHERE student_id = %s', ('B09502132',))\n",
    "result = cursor.fetchone()\n",
    "print(result)"
   ]
  },
  {
   "attachments": {},
   "cell_type": "markdown",
   "metadata": {},
   "source": [
    "## 1-4: Insert three new students "
   ]
  },
  {
   "cell_type": "code",
   "execution_count": 83,
   "metadata": {},
   "outputs": [],
   "source": [
    "# 讀取CSV文件並插入數據\n",
    "with open(new_student_path, 'r',encoding='utf-8') as file:\n",
    "    csv_reader = csv.reader(file)\n",
    "    next(csv_reader)  # 跳過表頭\n",
    "    for row in csv_reader:\n",
    "        cursor.execute('INSERT INTO student (identity, department, degree, student_id, name, email, class) VALUES (%s, %s, %s, %s, %s, %s, %s)',tuple(row))\n",
    "\n",
    "conn.commit()"
   ]
  },
  {
   "attachments": {},
   "cell_type": "markdown",
   "metadata": {},
   "source": [
    "## 1-5: Prepared select statement "
   ]
  },
  {
   "cell_type": "code",
   "execution_count": 84,
   "metadata": {},
   "outputs": [],
   "source": [
    "ids =  [\"R10123456\", \"B09987653\", \"R11123001\"]  \n",
    "query = \"SELECT * FROM student WHERE student_id = %s\"\n",
    "for id in ids:\n",
    "    cursor.execute(query, (id,))\n",
    "    result = cursor.fetchone()\n",
    "    print(result)"
   ]
  },
  {
   "attachments": {},
   "cell_type": "markdown",
   "metadata": {},
   "source": [
    "## 1-6: Group information"
   ]
  },
  {
   "cell_type": "code",
   "execution_count": 85,
   "metadata": {},
   "outputs": [],
   "source": [
    "# 新增欄位\n",
    "cursor.execute('ALTER TABLE student ADD COLUMN `group` INT DEFAULT 0, ADD COLUMN `captain` BOOLEAN DEFAULT 0')\n",
    "\n",
    "\n",
    "group_ids = ['r12921059','r12922116','r12921093','b09502132']\n",
    "for group_id in group_ids:\n",
    "    cursor.execute('UPDATE student SET `group` = 7  WHERE student_id = %s', (group_id,))\n",
    "\n",
    "# 更新組長\n",
    "cursor.execute('UPDATE student SET `captain` = 1   WHERE student_id = %s',(group_ids[0],))  \n",
    "\n",
    "conn.commit()\n",
    "\n",
    "# 查詢自己組的成員信息\n",
    "cursor.execute('SELECT * FROM student WHERE `group` = 7')\n",
    "group_members = cursor.fetchall()\n",
    "for member in group_members:\n",
    "    print(member)\n"
   ]
  },
  {
   "cell_type": "code",
   "execution_count": 86,
   "metadata": {},
   "outputs": [],
   "source": [
    "conn.close() # 關閉數據庫連接，不然執行 .sql 文件會卡住，無法執行"
   ]
  }
 ],
 "metadata": {
  "kernelspec": {
   "display_name": "ta_hw4",
   "language": "python",
   "name": "python3"
  },
  "language_info": {
   "codemirror_mode": {
    "name": "ipython",
    "version": 3
   },
   "file_extension": ".py",
   "mimetype": "text/x-python",
   "name": "python",
   "nbconvert_exporter": "python",
   "pygments_lexer": "ipython3",
   "version": "3.8.0"
  },
  "orig_nbformat": 4
 },
 "nbformat": 4,
 "nbformat_minor": 2
}
